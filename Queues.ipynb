{
 "cells": [
  {
   "cell_type": "markdown",
   "metadata": {},
   "source": [
    "QUEUES"
   ]
  },
  {
   "cell_type": "markdown",
   "metadata": {},
   "source": [
    "It follows a FIFO structure (first in first out)\n",
    "ex: bus queue,nbank queue\n",
    "ex : entry and exit point is not same\n",
    "    suppose i inserted 1, 2,3,4  tthen 1 will exit out first and so on\n",
    "\n",
    "Main functions:\n",
    "    \n",
    "    1. Enqueue: Insertion of element\n",
    "    2. Dequeue : deletion of element\n",
    "    3. Size :   size  of queue\n",
    "    4. isEmpty : if queue empty or not\n",
    "    5. front :  print first element\n",
    "    \n",
    "Elements are inserted at rear end , and remoed from the front end"
   ]
  },
  {
   "cell_type": "markdown",
   "metadata": {},
   "source": [
    "Queue Using Array"
   ]
  },
  {
   "cell_type": "code",
   "execution_count": 36,
   "metadata": {},
   "outputs": [
    {
     "name": "stdout",
     "output_type": "stream",
     "text": [
      "10\n",
      "30\n",
      "-1\n"
     ]
    }
   ],
   "source": [
    "class queue:\n",
    "    \n",
    "    def __init__(self):\n",
    "        self.__data=[]\n",
    "        self.__count=0\n",
    "        self.__front=0\n",
    "        \n",
    "    def Enqueue(self,item):\n",
    "        self.__data.append(item)\n",
    "        self.__count+=1\n",
    "        \n",
    "    def Dequeue(self):\n",
    "        if self.__count==0:\n",
    "            return -1\n",
    "        a=self.__data[self.__front]\n",
    "        self.__front+=1\n",
    "        self.__count-=1\n",
    "        return a\n",
    "            \n",
    "    def Size(self):\n",
    "        return self.__count\n",
    "    \n",
    "    def isEmpty(self):\n",
    "        return self.__count==0\n",
    "    \n",
    "    def Front(self):\n",
    "        if self.__count==0:\n",
    "            return -1\n",
    "        return self.__data[self.__front]\n",
    "    \n",
    "q=queue()\n",
    "q.Enqueue(10)\n",
    "q.Enqueue(30)\n",
    "while q.isEmpty() is False:\n",
    "    print(q.Front())\n",
    "    q.Dequeue()\n",
    "\n",
    "# now queue has become empty\n",
    "print(q.Dequeue())\n"
   ]
  },
  {
   "cell_type": "markdown",
   "metadata": {},
   "source": [
    "Queue Using Linked List"
   ]
  },
  {
   "cell_type": "code",
   "execution_count": 21,
   "metadata": {},
   "outputs": [
    {
     "name": "stdout",
     "output_type": "stream",
     "text": [
      "1 2 3 4 5 6 7 8 -1\n",
      "2\n",
      "1\n",
      "false\n"
     ]
    }
   ],
   "source": [
    "class Node:\n",
    "    def __init__(self,data):\n",
    "        self.data = data\n",
    "        self.next = None\n",
    "        \n",
    "class QueueUsingLL:    \n",
    "    def __init__(self):\n",
    "        self.__head=None\n",
    "        self.__tail=None\n",
    "        self.__count=0\n",
    "        \n",
    "    def enqueue(self,data):\n",
    "        newnode=Node(data)\n",
    "        if self.__head is None:\n",
    "            self.__head=newnode\n",
    "            self.__tail=newnode\n",
    "        else:\n",
    "            self.__tail.next=newnode\n",
    "            self.__tail=newnode\n",
    "        \n",
    "        self.__count+=1\n",
    "        \n",
    "            \n",
    "    def dequeue(self):\n",
    "        if self.__head is None:\n",
    "            return\n",
    "        a=self.__head.data\n",
    "        self.__head=self.__head.next\n",
    "        self.__count-=1\n",
    "        return a\n",
    "        \n",
    "    def front(self):\n",
    "        if self.__head is None:\n",
    "            return \n",
    "        return self.__head.data\n",
    "        \n",
    "    def isEmpty(self):\n",
    "        return self.__count==0\n",
    "    \n",
    "    def getSize(self):\n",
    "        return self.__count\n",
    "\n",
    "    \n",
    "q = QueueUsingLL()\n",
    "li = [int(ele) for ele in input().split()]\n",
    "i=0\n",
    "while i<len(li):\n",
    "    choice = li[i]\n",
    "    if choice == -1:\n",
    "        break\n",
    "    elif choice == 1:\n",
    "        q.enqueue(li[i+1])\n",
    "        i+=1\n",
    "    elif choice == 2:\n",
    "        ans = q.dequeue()\n",
    "        if ans!=0:\n",
    "            print(ans)\n",
    "        else:\n",
    "            print(-1)\n",
    "    elif choice == 3:\n",
    "        ans = q.front()\n",
    "        if ans!=0:\n",
    "            print(ans)\n",
    "        else:\n",
    "            print(-1)\n",
    "    elif choice == 4:\n",
    "        print(q.getSize())\n",
    "    elif choice == 5:\n",
    "        if(q.isEmpty()):\n",
    "            print('true')\n",
    "        else:\n",
    "            print('false')\n",
    "    i+=1\n",
    "\n"
   ]
  },
  {
   "cell_type": "markdown",
   "metadata": {},
   "source": [
    "In-Built Stacks and Queues"
   ]
  },
  {
   "cell_type": "markdown",
   "metadata": {},
   "source": [
    "For stacks its a lot bit similar than Array, so opeartions are easily O(1)\n",
    "(for inbuilt stacks we can use list)\n",
    "BUT,\n",
    "For queues using list will not  be efficient, because lets say we have 2,3,4,5\n",
    "now we have to remove the element (2) for that we have to shift each element by one level, thus for shfting it will cause O(n)\n",
    "\n",
    "so we use inbuilt library queue:"
   ]
  },
  {
   "cell_type": "code",
   "execution_count": 37,
   "metadata": {},
   "outputs": [
    {
     "name": "stdout",
     "output_type": "stream",
     "text": [
      "1\n",
      "1\n",
      "2\n",
      "2\n",
      "3\n",
      "3\n"
     ]
    }
   ],
   "source": [
    "import queue\n",
    "\n",
    "q=queue.Queue()\n",
    "q.put(1)\n",
    "q.put(2)\n",
    "q.put(3)\n",
    "\n",
    "while not q.empty():\n",
    "    print(q.get())"
   ]
  },
  {
   "cell_type": "markdown",
   "metadata": {},
   "source": [
    "In this queue library there is inbuilt stack as well"
   ]
  },
  {
   "cell_type": "code",
   "execution_count": 26,
   "metadata": {},
   "outputs": [
    {
     "name": "stdout",
     "output_type": "stream",
     "text": [
      "4\n",
      "3\n",
      "2\n",
      "1\n"
     ]
    }
   ],
   "source": [
    "import queue\n",
    "\n",
    "s=queue.LifoQueue()\n",
    "s.put(1)\n",
    "s.put(2)\n",
    "s.put(3)\n",
    "s.put(4)\n",
    "\n",
    "while not s.empty():\n",
    "    print(s.get())"
   ]
  },
  {
   "cell_type": "markdown",
   "metadata": {},
   "source": [
    "Queue Using 2 Stacks"
   ]
  },
  {
   "cell_type": "markdown",
   "metadata": {},
   "source": [
    "Either of Enqueue or Dequeue can be of O(1)"
   ]
  },
  {
   "cell_type": "markdown",
   "metadata": {},
   "source": [
    "Method -1, where Enqueue is O(1) and Dequeue is O(n)\n",
    "\n",
    "For this appending each element i will first move all element s from s1 to s2, and then append new element in s1\n",
    "and then move all elements from s2 to s1\n",
    "And for deletion i can directly pop the new element \n",
    "so my s1 will show shomething like this:\n",
    "1 then 2-1 then 3-2-1 so each new element is updating at start"
   ]
  },
  {
   "cell_type": "code",
   "execution_count": 31,
   "metadata": {},
   "outputs": [
    {
     "name": "stdout",
     "output_type": "stream",
     "text": [
      "10\n",
      "20\n",
      "30\n"
     ]
    }
   ],
   "source": [
    "class queue_using_2_stacks:\n",
    "    \n",
    "    def __init__(self):\n",
    "        self.__s1=[]\n",
    "        self.__s2=[]\n",
    "        \n",
    "    def Enqueue(self,item):\n",
    "        while len(self.__s1)!=0:\n",
    "            self.__s2.append(self.__s1.pop())\n",
    "            \n",
    "        self.__s1.append(item)\n",
    "        \n",
    "        while len(self.__s2)!=0:\n",
    "            self.__s1.append(self.__s2.pop())\n",
    "        \n",
    "        return \n",
    "\n",
    "        \n",
    "    def Dequeue(self):\n",
    "        if len(self.__s1)==0:\n",
    "            return -1\n",
    "        return self.__s1.pop()\n",
    "    \n",
    "    def Front(self):\n",
    "        if len(self.__s1)==0:\n",
    "            return -1\n",
    "        return self.__s1[-1]\n",
    "        \n",
    "    def Size(self):\n",
    "        return len(self.__s1)\n",
    "    \n",
    "    def isEmpty(self):\n",
    "        return len(self.__s1)==0\n",
    "\n",
    "q=queue_using_2_stacks()\n",
    "q.Enqueue(10)\n",
    "q.Enqueue(20)\n",
    "q.Enqueue(30)\n",
    "\n",
    "while not q.isEmpty():\n",
    "    print(q.Front())\n",
    "    q.Dequeue()"
   ]
  },
  {
   "cell_type": "markdown",
   "metadata": {},
   "source": [
    "Method - 2 Enqueue for O(1) and Dequeue for O(n)\n",
    "for this i will keep on appending elements to stack s1, and whenever need to remove i will move n-1 elements to s2 \n",
    "and then pop element from s1 and tthen again move all elements from s2 to s1"
   ]
  },
  {
   "cell_type": "code",
   "execution_count": 1,
   "metadata": {},
   "outputs": [
    {
     "name": "stdout",
     "output_type": "stream",
     "text": [
      "10\n",
      "20\n",
      "30\n"
     ]
    }
   ],
   "source": [
    "class queue_using_2_stacks_m2:\n",
    "    \n",
    "    def __init__(self):\n",
    "        self.__s1=[]\n",
    "        self.__s2=[]\n",
    "        \n",
    "    def Enqueue(self,item):\n",
    "        self.__s1.append(item)\n",
    "\n",
    "        \n",
    "    def Dequeue(self):\n",
    "        if len(self.__s1)==0:\n",
    "            return -1\n",
    "        \n",
    "        while len(self.__s1)!=1:\n",
    "            self.__s2.append(self.__s1.pop())\n",
    "            \n",
    "        a=self.__s1.pop()\n",
    "        \n",
    "        while len(self.__s2)!=0:\n",
    "            self.__s1.append(self.__s2.pop())\n",
    "        \n",
    "        return a\n",
    "\n",
    "    def Front(self):\n",
    "        if len(self.__s1)==0:\n",
    "            return -1\n",
    "        \n",
    "        return self.__s1[0]\n",
    "        \n",
    "    def Size(self):\n",
    "        return len(self.__s1)\n",
    "    \n",
    "    def isEmpty(self):\n",
    "        return len(self.__s1)==0\n",
    "\n",
    "q=queue_using_2_stacks_m2()\n",
    "q.Enqueue(10)\n",
    "q.Enqueue(20)\n",
    "q.Enqueue(30)\n",
    "\n",
    "while not q.isEmpty():\n",
    "    print(q.Front())\n",
    "    q.Dequeue()"
   ]
  },
  {
   "cell_type": "markdown",
   "metadata": {},
   "source": [
    "Stacks Using 2 Queues"
   ]
  },
  {
   "cell_type": "markdown",
   "metadata": {},
   "source": [
    "Method 1- push O(n)"
   ]
  },
  {
   "cell_type": "code",
   "execution_count": 1,
   "metadata": {},
   "outputs": [
    {
     "name": "stdout",
     "output_type": "stream",
     "text": [
      "1 2 3 4  5 6 -1\n",
      "2\n",
      "1\n",
      "2\n"
     ]
    }
   ],
   "source": [
    "\n",
    "import queue\n",
    "class StackUsingQueues:\n",
    "    \n",
    "    def __init__(self):\n",
    "        self.q1 = queue.Queue()\n",
    "        self.q2 = queue.Queue()\n",
    "        self.count=0\n",
    "        \n",
    "        \n",
    "    def push(self,data):\n",
    "        self.count += 1\n",
    "  \n",
    "        # Push x first in empty q2  \n",
    "        self.q2.put(data)  \n",
    "  \n",
    "        # Push all the remaining  \n",
    "        # elements in q1 to q2.  \n",
    "        while (not self.q1.empty()): \n",
    "            self.q2.put(self.q1.queue[0]) \n",
    "            self.q1.get()\n",
    "            \n",
    "        while (not self.q2.empty()): \n",
    "            self.q1.put(self.q2.queue[0]) \n",
    "            self.q2.get()\n",
    "        \n",
    "       \n",
    "\n",
    "    def pop(self):\n",
    "        if (self.q1.empty()):  \n",
    "            return\n",
    "        self.count -= 1\n",
    "        return self.q1.get() \n",
    "    \n",
    "    def top(self):\n",
    "        if (self.q1.empty()): \n",
    "            return -1\n",
    "        return self.q1.queue[0] \n",
    "       \n",
    "       \n",
    "    def getSize(self):\n",
    "        return self.count\n",
    "        \n",
    "    \n",
    "s = StackUsingQueues()\n",
    "li = [int(ele) for ele in input().split()]\n",
    "i=0\n",
    "li1=[]\n",
    "while i<len(li):\n",
    "    choice = li[i]\n",
    "    if choice == -1:\n",
    "        break\n",
    "    elif choice == 1:\n",
    "        s.push(li[i+1])\n",
    "        i+=1\n",
    "    elif choice == 2:\n",
    "        ans = s.pop()\n",
    "        if ans!=0:\n",
    "            print(ans)\n",
    "        else:\n",
    "            print(-1)\n",
    "    elif choice == 3:\n",
    "        ans = s.top()\n",
    "        if ans!=0:\n",
    "            print(ans)\n",
    "        else:\n",
    "            print(-1)\n",
    "    elif choice == 4:\n",
    "        print(s.getSize())\n",
    "    elif choice == 5:\n",
    "        while s.q1.qsize() !=0:\n",
    "            li1.append(s.q1.get())\n",
    "        li1.reverse()\n",
    "        print(*li1)\n",
    "            \n",
    "    i+=1\n",
    "\n"
   ]
  },
  {
   "cell_type": "markdown",
   "metadata": {},
   "source": [
    " method -2 pop O(n)"
   ]
  },
  {
   "cell_type": "code",
   "execution_count": 2,
   "metadata": {},
   "outputs": [
    {
     "name": "stdout",
     "output_type": "stream",
     "text": [
      "1 2 3 4 5 6 -1\n",
      "2\n",
      "1\n",
      "2\n"
     ]
    }
   ],
   "source": [
    "import queue\n",
    "class StackUsingQueues:\n",
    "    \n",
    "    def __init__(self):\n",
    "        self.q1 = queue.Queue()\n",
    "        self.q2 = queue.Queue()\n",
    "        self.count=0\n",
    "        \n",
    "        \n",
    "    def push(self,data):\n",
    "        self.count += 1\n",
    "        self.q1.put(data) \n",
    "    \n",
    "    def pop(self):\n",
    "        l=self.q1.qsize()\n",
    "        while l!=1:\n",
    "            d=self.q1.get()\n",
    "            self.q2.put(d)\n",
    "            l-=1\n",
    "        data=self.q1.get()\n",
    "        self.q=self.q1\n",
    "        self.q1=self.q2\n",
    "        self.q2=self.q\n",
    "        self.count-=1\n",
    "        return data\n",
    "    \n",
    "    def top(self):\n",
    "        l=self.q1.qsize()\n",
    "        return self.q1.queue[l-1]\n",
    "       \n",
    "    def getSize(self):\n",
    "        return self.count\n",
    "        \n",
    "    \n",
    "        \n",
    "    \n",
    "s = StackUsingQueues()\n",
    "li = [int(ele) for ele in input().split()]\n",
    "i=0\n",
    "li1=[]\n",
    "while i<len(li):\n",
    "    choice = li[i]\n",
    "    if choice == -1:\n",
    "        break\n",
    "    elif choice == 1:\n",
    "        s.push(li[i+1])\n",
    "        i+=1\n",
    "    elif choice == 2:\n",
    "        ans = s.pop()\n",
    "        if ans!=0:\n",
    "            print(ans)\n",
    "        else:\n",
    "            print(-1)\n",
    "    elif choice == 3:\n",
    "        ans = s.top()\n",
    "        if ans!=0:\n",
    "            print(ans)\n",
    "        else:\n",
    "            print(-1)\n",
    "    elif choice == 4:\n",
    "        print(s.getSize())\n",
    "    elif choice == 5:\n",
    "        while s.q1.qsize() !=0:\n",
    "            li1.append(s.q1.get())\n",
    "        print(*li1)\n",
    "            \n",
    "    i+=1\n",
    "\n",
    "\n",
    "\n"
   ]
  },
  {
   "cell_type": "markdown",
   "metadata": {},
   "source": [
    "Reverse Queue"
   ]
  },
  {
   "cell_type": "code",
   "execution_count": 7,
   "metadata": {},
   "outputs": [
    {
     "name": "stdout",
     "output_type": "stream",
     "text": [
      "4 3 2 1 "
     ]
    }
   ],
   "source": [
    "import queue\n",
    "\n",
    "def reverseQueue(q1):\n",
    "    if q1.empty():\n",
    "        return\n",
    "    \n",
    "    x=q1.queue[0]\n",
    "    q1.get()\n",
    "    \n",
    "    reverseQueue(q1)\n",
    "    q1.put(x)\n",
    "    \n",
    "\n",
    "a=[1,2,3,4]\n",
    "q1 = queue.Queue()\n",
    "for ele in a:\n",
    "    q1.put(ele)\n",
    "reverseQueue(q1)\n",
    "while(q1.empty() is False):\n",
    "    print(q1.get(),end= ' ')\n"
   ]
  },
  {
   "cell_type": "markdown",
   "metadata": {},
   "source": [
    "Reverse first k elements"
   ]
  },
  {
   "cell_type": "code",
   "execution_count": 13,
   "metadata": {},
   "outputs": [
    {
     "name": "stdout",
     "output_type": "stream",
     "text": [
      "4\n",
      "1 2 3 4\n",
      "2\n",
      "2\n",
      "1\n",
      "3\n",
      "4\n"
     ]
    }
   ],
   "source": [
    "\n",
    "import queue\n",
    "\n",
    "\n",
    "  \n",
    "def reverseFirstK(q,k):\n",
    "    s=[]\n",
    "    for i in range(k):\n",
    "        s.append(q.queue[0])\n",
    "        q.get()\n",
    "        \n",
    "    while len(s)!=0:\n",
    "        q.put(s[-1])\n",
    "        s.pop()\n",
    "        \n",
    "    for i in range(q.qsize()-k):\n",
    "        q.put(q.queue[0])\n",
    "        q.get()\n",
    "\n",
    "        \n",
    "from sys import setrecursionlimit\n",
    "setrecursionlimit(11000)\n",
    "n = int(input())\n",
    "li = [int(ele) for ele in input().split()]\n",
    "q = queue.Queue()\n",
    "for ele in li:\n",
    "\tq.put(ele)\n",
    "k = int(input())\n",
    "reverseFirstK(q,k) \n",
    "while(q.qsize()>0):\n",
    "\tprint(q.get())\n",
    "\tn-=1"
   ]
  },
  {
   "cell_type": "code",
   "execution_count": null,
   "metadata": {},
   "outputs": [],
   "source": []
  }
 ],
 "metadata": {
  "kernelspec": {
   "display_name": "Python 3",
   "language": "python",
   "name": "python3"
  },
  "language_info": {
   "codemirror_mode": {
    "name": "ipython",
    "version": 3
   },
   "file_extension": ".py",
   "mimetype": "text/x-python",
   "name": "python",
   "nbconvert_exporter": "python",
   "pygments_lexer": "ipython3",
   "version": "3.7.6"
  }
 },
 "nbformat": 4,
 "nbformat_minor": 4
}
